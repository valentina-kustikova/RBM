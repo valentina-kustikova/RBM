{
 "cells": [
  {
   "cell_type": "markdown",
   "id": "d0e63f0d",
   "metadata": {},
   "source": [
    "# Ограниченная машина Больцмана (Restricted Boltzmann machine)"
   ]
  },
  {
   "cell_type": "markdown",
   "id": "5aa260e0",
   "metadata": {},
   "source": [
    "## Введение"
   ]
  },
  {
   "cell_type": "markdown",
   "id": "4641c006",
   "metadata": {},
   "source": [
    "<b> Ограниченная машина Больцмана (RBM) </b> — это генеративная стохастическая искусственная нейронная сеть, которая определяет распределение вероятности на наборе входных данных.\n",
    "\n",
    "Как следует из их названия, RBM являются вариантом машин Больцмана с ограничением, что их нейроны должны образовывать двудольный граф: пара узлов, сформированная из нейронов двух групп (обычно называемых «видимыми» и «скрытыми» соответственно), имеет симметричное соединение между собой, и нет никаких связей между узлами внутри группы. Это ограничение позволяет использовать более эффективные алгоритмы обучения, чем те, которые доступны для общего класса машин Больцмана, в частности, алгоритм контрастной дивергенции на основе градиента. Кроме того, особенностью ограниченных машин Больцмана является возможность прохождения обучение без учителя."
   ]
  },
  {
   "cell_type": "markdown",
   "id": "dba2c978",
   "metadata": {},
   "source": [
    "## Обозначения и вывод формул"
   ]
  },
  {
   "cell_type": "markdown",
   "id": "40b28afe",
   "metadata": {},
   "source": [
    "Введем следующие обозначения:\n",
    "<ul>\n",
    "    <li>$N_v$ — количество нейронов видимого слоя </li>\n",
    "    <li>$N_h$ — количество нейронов скрытого слоя </li>\n",
    "    <li>$v_1, v_2, ..., v_{N_v}$ — состояния нейронов видимого слоя, $v_i \\in \\{0, 1\\}, i = \\overline{1, N_v}, v \\in R^{N_v}$ </li>\n",
    "    <li>$h_1, h_2, ..., h_{N_h}$ — состояния нейронов скрытого слоя, $h_i \\in \\{0, 1\\}, i = \\overline{1, N_h}, h \\in R^{N_h}$ </li>\n",
    "    <li>$W \\in R^{N_v \\times N_h}$ — матрица связей между нейронами видимого и скрытого слоя </li>\n",
    "    <li>$w_{ij}$ — веc между $i$ -ым нейроном видимого слоя и $j$ - ым нейроном скрытого слоя ($i = \\overline{1, N_v}, j = \\overline{1, N_h}$)</li>\n",
    "    <li>$a_i$ — смещение видимого нейрона ($i = \\overline{1, N_v}$)</li>\n",
    "    <li>$b_j$ — смещение скрытого нейрона ($j = \\overline{1, N_h}$)</li>\n",
    "</ul>"
   ]
  },
  {
   "cell_type": "markdown",
   "id": "960923b5",
   "metadata": {},
   "source": [
    "![RBM1](https://raw.githubusercontent.com/Frixinglife/RBM/adb5aa904ca892d3be8f05867935dc8075efc052/images/RBM1.svg)"
   ]
  },
  {
   "cell_type": "code",
   "execution_count": null,
   "id": "f6426456",
   "metadata": {},
   "outputs": [],
   "source": []
  }
 ],
 "metadata": {
  "kernelspec": {
   "display_name": "Python 3 (ipykernel)",
   "language": "python",
   "name": "python3"
  },
  "language_info": {
   "codemirror_mode": {
    "name": "ipython",
    "version": 3
   },
   "file_extension": ".py",
   "mimetype": "text/x-python",
   "name": "python",
   "nbconvert_exporter": "python",
   "pygments_lexer": "ipython3",
   "version": "3.9.2"
  }
 },
 "nbformat": 4,
 "nbformat_minor": 5
}
